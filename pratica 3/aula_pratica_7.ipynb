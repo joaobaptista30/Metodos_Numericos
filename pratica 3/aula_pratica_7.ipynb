{
 "cells": [
  {
   "cell_type": "markdown",
   "metadata": {},
   "source": [
    "## Worksheet 3"
   ]
  },
  {
   "cell_type": "markdown",
   "metadata": {},
   "source": [
    "### Exercise 1"
   ]
  },
  {
   "cell_type": "code",
   "execution_count": 7,
   "metadata": {},
   "outputs": [
    {
     "name": "stdout",
     "output_type": "stream",
     "text": [
      "Linear interpolation: 0.74641\n",
      "Squared interpolation: 0.735692\n"
     ]
    }
   ],
   "source": [
    "def interpolation(x, x_vals, f_vals):\n",
    "    result = 0\n",
    "    for k in range(len(x_vals)):\n",
    "        # calculate the value of l_k\n",
    "        l_k = 1\n",
    "        for i in range(len(x_vals)):\n",
    "            if (i == k):\n",
    "                continue\n",
    "            l_k *= (x - x_vals[i]) / (x_vals[k] - x_vals[i])\n",
    "        # calculate l_k * f_k\n",
    "        result += l_k * f_vals[k]\n",
    "    return result\n",
    "\n",
    "import math\n",
    "\n",
    "print(f\"Linear interpolation: {interpolation(math.pi/5, [math.pi/6, math.pi/4], [0.57735, 1])}\")\n",
    "print(f\"Squared interpolation: {interpolation(math.pi/5, [0, math.pi/6, math.pi/4], [0, 0.57735, 1])}\")"
   ]
  }
 ],
 "metadata": {
  "kernelspec": {
   "display_name": "base",
   "language": "python",
   "name": "python3"
  },
  "language_info": {
   "codemirror_mode": {
    "name": "ipython",
    "version": 3
   },
   "file_extension": ".py",
   "mimetype": "text/x-python",
   "name": "python",
   "nbconvert_exporter": "python",
   "pygments_lexer": "ipython3",
   "version": "3.9.7"
  }
 },
 "nbformat": 4,
 "nbformat_minor": 2
}

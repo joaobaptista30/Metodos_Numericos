{
 "cells": [
  {
   "cell_type": "markdown",
   "metadata": {},
   "source": [
    "# Worksheet 3"
   ]
  },
  {
   "cell_type": "markdown",
   "metadata": {},
   "source": [
    "## Exercise 6"
   ]
  },
  {
   "cell_type": "code",
   "execution_count": 1,
   "metadata": {},
   "outputs": [],
   "source": [
    "# X: list of x values\n",
    "# F: list of correspondent x values passed to the function f\n",
    "\n",
    "def divided_differences_table(X, F):\n",
    "    table = [[0 for _ in range(len(X))] for _ in range(len(X))] # left-most columns filled with the f values\n",
    "    for j in range(len(F)):\n",
    "        for i in range(len(F)-1-j, -1, -1):\n",
    "            if j == 0:\n",
    "                table[i][j] = F[i]\n",
    "            else:\n",
    "                table[i][j] = (table[i+1][j-1] - table[i][j-1]) / (X[i+j] - X[i])\n",
    "    return table"
   ]
  },
  {
   "cell_type": "code",
   "execution_count": 2,
   "metadata": {},
   "outputs": [],
   "source": [
    "def divided_differences_approximation(x, X, F):\n",
    "    table = divided_differences_table(X, F)\n",
    "    result = table[0][0]\n",
    "    for j in range(1, len(X)):\n",
    "        # calculate pi_j(x)\n",
    "        pi_j = 1\n",
    "        for k in range(j):\n",
    "            pi_j *= x-X[k]\n",
    "        # sum pi_j(x) * f[x_0, ..., x_j]\n",
    "        result += pi_j * table[0][j]\n",
    "    return result"
   ]
  },
  {
   "cell_type": "code",
   "execution_count": 3,
   "metadata": {},
   "outputs": [
    {
     "name": "stdout",
     "output_type": "stream",
     "text": [
      "[1.49182, 1.6515000000000006, 0.9139999999999976, 0.33750000000000635]\n",
      "[1.82212, 2.0170999999999997, 1.1165000000000014, 0]\n",
      "[2.22554, 2.4637000000000002, 0, 0]\n",
      "[2.71828, 0, 0, 0]\n",
      "\n",
      "2.0136775\n"
     ]
    }
   ],
   "source": [
    "X = [0.4, 0.6, 0.8, 1]\n",
    "F = [1.49182, 1.82212, 2.22554, 2.71828]\n",
    "\n",
    "x = 0.7\n",
    "\n",
    "table = divided_differences_table(X, F)\n",
    "for row in table:\n",
    "    print(row)\n",
    "print()\n",
    "print(divided_differences_approximation(x, X, F))"
   ]
  }
 ],
 "metadata": {
  "kernelspec": {
   "display_name": "base",
   "language": "python",
   "name": "python3"
  },
  "language_info": {
   "codemirror_mode": {
    "name": "ipython",
    "version": 3
   },
   "file_extension": ".py",
   "mimetype": "text/x-python",
   "name": "python",
   "nbconvert_exporter": "python",
   "pygments_lexer": "ipython3",
   "version": "3.11.6"
  }
 },
 "nbformat": 4,
 "nbformat_minor": 2
}

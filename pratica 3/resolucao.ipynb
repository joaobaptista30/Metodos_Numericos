{
 "cells": [
  {
   "cell_type": "markdown",
   "metadata": {},
   "source": [
    "EX5"
   ]
  },
  {
   "cell_type": "code",
   "execution_count": 6,
   "metadata": {},
   "outputs": [
    {
     "name": "stdout",
     "output_type": "stream",
     "text": [
      "0.13983333333333328\n"
     ]
    }
   ],
   "source": [
    "#interpolar com polinomi\n",
    "#como temos 4 pontos sera um polinomio de grau <=3\n",
    "\n",
    "X=1.38\n",
    "x=[1.37,1.40]\n",
    "f_x=[0.1367,0.1461]\n",
    "\n",
    "def interpolar(X,x,f_x):\n",
    "    res=0\n",
    "    for k in range(len(x)):\n",
    "        l_k=1\n",
    "        for i in range(len(x)):\n",
    "            if(k==i): \n",
    "                continue\n",
    "            l_k *= ((X-x[i])/(x[k]-x[i]))\n",
    "        \n",
    "        res += l_k * f_x[k]\n",
    "    return res\n",
    "\n",
    "print(interpolar(X,x,f_x))"
   ]
  },
  {
   "cell_type": "markdown",
   "metadata": {},
   "source": [
    "EX8 p(0)com metodos de spline"
   ]
  },
  {
   "cell_type": "code",
   "execution_count": 1,
   "metadata": {},
   "outputs": [
    {
     "name": "stdout",
     "output_type": "stream",
     "text": [
      "1.0\n"
     ]
    }
   ],
   "source": [
    "#pelo Spline linear\n",
    "\n",
    "#1º encontrar o intervalo de Xi-1 < x < Xi\n",
    "\n",
    "\n",
    "def spline_linear(X, x, f_x):\n",
    "    i0=0\n",
    "    i1=0\n",
    "    for i in range(1,len(x)):\n",
    "        if (x[i-1]<=X and  X<=x[i]):\n",
    "            i0=i-1\n",
    "            i1=i\n",
    "            break\n",
    "    \n",
    "    l0=((X-x[i1])/(x[i1]-x[i0]))\n",
    "    l1=((X-x[i0])/(x[i1]-x[i0]))\n",
    "\n",
    "    \n",
    "    return (l1*f_x[i1] - l0*f_x[i0])\n",
    "\n",
    "#erro de spline vai ser= (max abs da 2ºderivada de f * max hi**2) / 8\n",
    "\n",
    "x=[-2,-1,1,2,3]\n",
    "f_x=[13,4,-2,1,8]\n",
    "X=0\n",
    "\n",
    "print(spline_linear(X,x,f_x))"
   ]
  },
  {
   "cell_type": "markdown",
   "metadata": {},
   "source": [
    "EX18"
   ]
  },
  {
   "cell_type": "code",
   "execution_count": null,
   "metadata": {},
   "outputs": [],
   "source": [
    "#minimos quadrados\n",
    "\n",
    "x=[1.05,1.10,1.15,1.20]\n",
    "f_x=[1.02470,1.04881,1.07238,1.09544]\n",
    "\n",
    "x_aprox=1.11\n",
    "\n",
    "\n",
    "def min_quadrados(X, F, n):\n",
    "    A = [[x**k for x in X] for k in range(n+1)]\n",
    "    "
   ]
  },
  {
   "cell_type": "code",
   "execution_count": 10,
   "metadata": {},
   "outputs": [
    {
     "name": "stdout",
     "output_type": "stream",
     "text": [
      "[0.77065476 0.2297619 ]\n",
      "7.886904761905042e-05\n"
     ]
    }
   ],
   "source": [
    "import numpy as np\n",
    "\n",
    "def minimos_quadrados(x,f_x,grau):\n",
    "\n",
    "    A = []\n",
    "    for k in range(grau+1):\n",
    "        row = []\n",
    "        for j in x:\n",
    "            row.append(j**k)\n",
    "        A.append(row)\n",
    "\n",
    "    a=np.array(A)\n",
    "    at=np.transpose(a)\n",
    "    f=np.array(f_x)\n",
    "\n",
    "    res=np.linalg.solve(np.matmul(a,at),np.matmul(a,f))\n",
    "    return res\n",
    "\n",
    "\n",
    "\n",
    "def poli(coef,x): #x valor a aprox\n",
    "    res=0\n",
    "    for i in range(len(coef)):\n",
    "        res+=coef[i]*x**i\n",
    "    return res\n",
    "\n",
    "def erro(coef,x,f_x): #x lista das abcissas\n",
    "\n",
    "    error=0\n",
    "    for i in range(len(x)):\n",
    "        error+=(f_x[i]-poli(coef,x[i]))**2\n",
    "\n",
    "    return error\n",
    "\n",
    "\n",
    "x=[1,1.05,1.1,1.15,1.2,1.25,1.3,1.35]\n",
    "f_x=[1,1.01,1.02,1.04,1.05,1.06,1.065,1.08]\n",
    "\n",
    "coefs=minimos_quadrados(x,f_x,1)\n",
    "print(coefs)\n",
    "\n",
    "erro_sol=erro(coefs,x,f_x)\n",
    "print(erro_sol)\n"
   ]
  }
 ],
 "metadata": {
  "kernelspec": {
   "display_name": "Python 3",
   "language": "python",
   "name": "python3"
  },
  "language_info": {
   "codemirror_mode": {
    "name": "ipython",
    "version": 3
   },
   "file_extension": ".py",
   "mimetype": "text/x-python",
   "name": "python",
   "nbconvert_exporter": "python",
   "pygments_lexer": "ipython3",
   "version": "3.11.6"
  }
 },
 "nbformat": 4,
 "nbformat_minor": 2
}

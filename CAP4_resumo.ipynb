{
 "cells": [
  {
   "cell_type": "markdown",
   "metadata": {},
   "source": [
    "# Numeric Integration and Differentiation"
   ]
  },
  {
   "cell_type": "markdown",
   "metadata": {},
   "source": [
    "## Numeric Integration - Simple Rules"
   ]
  },
  {
   "cell_type": "markdown",
   "metadata": {},
   "source": [
    "### Rectangle Rule\n",
    "\n",
    "Given an interval $[a,b]$ to integrate a function $f$, the approximate value with be calculated by calculating the area of the square with length $b-a$ and height $f(a)$:\n",
    "\n",
    "$ \\int_a^b f(x) dx = (b-a) f(a) $\n",
    "\n",
    "The majorant of the error is $ E_0 \\le \\frac{1}{2} (b-a)^2 M $, where $ M = \\max{|f'(x)|} $."
   ]
  },
  {
   "cell_type": "code",
   "execution_count": null,
   "metadata": {},
   "outputs": [],
   "source": [
    "# f: function\n",
    "def simple_rectangles(f, a, b, M):\n",
    "    result = (b-a)*f(a)\n",
    "    error = 1/2 * M * (b-a)**2\n",
    "    return result, error"
   ]
  },
  {
   "cell_type": "markdown",
   "metadata": {},
   "source": [
    "### Trapeze Rule\n",
    "\n",
    "Given an interval $[a,b]$ to integrate a function $f$, the approximate value with be calculated by calculating the area of the trapeze with base $b-a$ and diagonal side from $(a,f(a))$ to $(b, f(b))$:\n",
    "\n",
    "$ \\int_a^b f(x) dx = \\frac{(b-a)}{2} (f(a) + f(b)) $ \n",
    "\n",
    "The majorant of the error is $ E_1 \\le - \\frac{1}{12} (b-a)^3 M $, where $ M = \\max{|f''(x)|} $."
   ]
  },
  {
   "cell_type": "code",
   "execution_count": null,
   "metadata": {},
   "outputs": [],
   "source": [
    "# f: function\n",
    "def simple_trapeze(f, a, b, M):\n",
    "    result = 1/2 * (b-a) * (f(a)+f(b))\n",
    "    error = abs(-1/12 * M * (b-a)**3)\n",
    "    return result, error"
   ]
  },
  {
   "cell_type": "markdown",
   "metadata": {},
   "source": [
    "### Simpson Rule\n",
    "\n",
    "Given an interval $[a,b]$ to integrate a function $f$,we will get the approximate value by calculating the area of the interpolating polynomial of 2nd degree that passes on the points $(a,f(a))$, $(\\frac{a+b}{2}, f(\\frac{a+b}{2}))$ and $(b,f(b))$:\n",
    "\n",
    "$ \\int_a^b f(x) dx = \\frac{(b-a)}{6} (f(a) + 4 f(\\frac{a+b}{2}) + f(b)) $ \n",
    "\n",
    "The majorant of the error is $ E_2 \\le - \\frac{1}{90} (\\frac{b-a}{2})^5 M $, where $ M = \\max{|f''''(x)|} $."
   ]
  },
  {
   "cell_type": "code",
   "execution_count": null,
   "metadata": {},
   "outputs": [],
   "source": [
    "# f: function\n",
    "def simple_simpson(f, a, b, M):\n",
    "    m = (a+b)/2\n",
    "    result = ((b-a)/6) * (f(a) + 4*f(m) + f(b))\n",
    "    error = abs(-1/90 * M * ((b-a)/2)**5)\n",
    "    return result, error"
   ]
  },
  {
   "cell_type": "markdown",
   "metadata": {},
   "source": [
    "## Numeric Integration - Composite Rules\n",
    "\n",
    "How can we get better approximations?\n",
    "\n",
    "One way would be to divide the interval $[a,b]$ into smaller (equally) separated intervals (or, in other words, define equally spaced $x$ values inside the $[a,b]$ interval), apply the aforementioned simples rules and sum the results.\n",
    "\n",
    "When defining the intervals, given a number $n$ of intervals, each interval will have amplitude $h = \\frac{b-a}{n}$.\n",
    "\n",
    "Therefore the sequence of $x$ values will be $ x_0 = a, x_1, x_2, ... x_i, ..., x_n = b $ such that $ x_i = x_0 + i \\times h $.\n",
    "\n",
    "Essentialy:\n",
    "\n",
    "$\\int_a^b f(x) dx = \\Sigma_{i=0}^{n-1} {\\int_{x_i}^{x_{i+1}} f(x) dx} $"
   ]
  },
  {
   "cell_type": "markdown",
   "metadata": {},
   "source": [
    "### Rectangles Composite Rule\n",
    "\n",
    "We obtain the approximation of the integral by applying the Rectangles Simple Rule to each interval $ [x_i, x_{i+1}] $ in the sequence of $x$ values defined previously and summing the results.\n",
    "\n",
    "This can be done by iteratively computing the Simple version of the rule, but we can also work out the formula to obtain an equivalent expression that we can also compute iteratively:\n",
    "\n",
    "$\\int_a^b f(x) dx = \\Sigma_{i=0}^{n-1} {\\int_{x_i}^{x_{i+1}} f(x) dx} = $\n",
    "\n",
    "$\\Sigma_{i=0}^{n-1} {h \\times f(x_i)} = h \\times \\Sigma_{i=0}^{n-1} {f(x_i)} $\n",
    "\n",
    "The majorant of the error is computed with the formula $ E_n^R \\le \\frac{1}{2} (b-a) h M $, where $ M = \\max_{a \\le x \\le b}{|f'(x)|} $.\n"
   ]
  },
  {
   "cell_type": "code",
   "execution_count": 3,
   "metadata": {},
   "outputs": [],
   "source": [
    "# f: function\n",
    "\n",
    "# first version - applying the simple rule iteratively\n",
    "def composite_rectangles(f, a, b, n, M):\n",
    "    h = (b-a)/n\n",
    "    X = [a+i*h for i in range(n+1)]\n",
    "    result = 0\n",
    "    for i in range(n):\n",
    "        partial_result, partial_error = simple_rectangles(f, X[i], X[i+1], M) # the partial_error value will not be used\n",
    "        result += partial_result\n",
    "    error = 1/2 * (b-a) * h * M\n",
    "    return result, error\n",
    "\n",
    "# second version - using the calculated equivalent formula\n",
    "def composite_rectangles(f, a, b, n, M):\n",
    "    h = (b-a)/n\n",
    "    X = [a+i*h for i in range(n+1)]\n",
    "    result = 0\n",
    "    for i in range(n):\n",
    "        result += f(X[i])\n",
    "    result *= h\n",
    "    error = 1/2 * (b-a) * h * M\n",
    "    return result, error"
   ]
  },
  {
   "cell_type": "markdown",
   "metadata": {},
   "source": [
    "### Trapezes Composite Rule\n",
    "\n",
    "In the same sense of the Rectangles Compose Rule, we can apply the Simple version of the rule iteratively or compute the equivalent, worked out equation.\n",
    "\n",
    "$ \\int_a^b f(x) dx = \\Sigma_{i=0}^{n-1} {\\int_{x_i}^{x_{i+1}} f(x) dx} = $\n",
    "\n",
    "$ \\Sigma_{i=0}^{n-1} {\\frac{1}{2} h (f(x_i) + f(x_{i+1}))} = $\n",
    "\n",
    "$ \\frac{1}{2} h (f(x_0) + 2f(x_1) + ... + 2f(x_{n-1}) + f(x_n)) = $\n",
    "\n",
    "$ \\frac{1}{2} h (f(a) + f(b)) + h \\Sigma_{i=1}^{n-1}{f(x_i)} $\n",
    "\n",
    "The majorant of the error is given by $ E_n^T \\le - \\frac{1}{12} h^2 (b-a) M $, where $ M = \\max_{a \\le x \\le b}{|f''(x)|} $."
   ]
  },
  {
   "cell_type": "code",
   "execution_count": null,
   "metadata": {},
   "outputs": [],
   "source": [
    "# f: function\n",
    "\n",
    "# first version - applying the simple rule iteratively\n",
    "def composite_trapezes(f, a, b, n, M):\n",
    "    h = (b-a)/n\n",
    "    X = [a+i*h for i in range(n+1)]\n",
    "    result = 0\n",
    "    for i in range(n):\n",
    "        partial_result, partial_error = simple_trapeze(f, X[i], X[i+1], M) # the partial_error value will not be used\n",
    "        result += partial_result\n",
    "    error = abs(-1/12 * (b-a) * h**2 * M)\n",
    "    return result, error\n",
    "\n",
    "# second version - using the calculated equivalent formula\n",
    "def composite_trapezes(f, a, b, n, M):\n",
    "    h = (b-a)/n\n",
    "    X = [a+i*h for i in range(n+1)]\n",
    "    result = h/2 * (f(a) + f(b))\n",
    "    for i in range(1, n): # i = 1, 2, ..., n-1\n",
    "        result += h*f(X[i])\n",
    "    error = abs(-1/12 * h**2 * (b-a) * M)\n",
    "    return result, error"
   ]
  },
  {
   "cell_type": "markdown",
   "metadata": {},
   "source": [
    "### Simpson Composite Rule\n",
    "\n",
    "Similarly to the last two methods, the Simpson Composite Rule applies the Simpson Simple Rule to each consecutive triple of $x$ values $(x_i, x_{i+1}, x_{i+2})$, considering $a_{simple} = x_i$ and $b_{simple} = x_{i+2}$ resulting in $x_{i+1}$ to be the middle point for the interpolating polynomial calculated during the Simple version of the rule.\n",
    "\n",
    "Therefore, we also can compute the Simpson Composite Rule by iterating with the Simple version. Either way, we can also find the equivalent expression of the approximation, and compute the result from it.\n",
    "\n",
    "Working out the expression...\n",
    "\n",
    "$ \\int_a^b f(x) dx = \\Sigma_{i=0}^{n-1} {\\int_{x_i}^{x_{i+1}} f(x) dx} = $\n",
    "\n",
    "$ \\int_{x_0}^{x_2}{f(x) dx} + \\int_{x_2}^{x_4}{f(x) dx} + ... + \\int_{x_{n-2}}^{x_n}{f(x) dx} = $\n",
    "\n",
    "`considering that ` $ \\int_{x_i}^{x_{i+2}}{f(x) dx} = \\frac{1}{3} h (f(x_i) + 4f(x_{i+1}) + f(x_{i+2})) $ ` ... `\n",
    "\n",
    "$ = \\frac{1}{3} h (f(x_0) + 4f(x_1) + 2f(x_2) + 4f(x_3) + 2f(x_4) + ... + 2f(x_{n-2}) + 4f(x_{n-1}) + f(x_n)) $\n",
    "\n",
    "The majorant of the error is given by $ E_n^S \\le - \\frac{1}{180} h^4 (b-a) M $, where $ M = \\max_{a \\le x \\le b}{|f''''(x)|} $."
   ]
  },
  {
   "cell_type": "code",
   "execution_count": null,
   "metadata": {},
   "outputs": [],
   "source": [
    "# f: function\n",
    "\n",
    "# using the calculated equivalent formula\n",
    "def composite_simpson(f, a, b, n, M):\n",
    "    h = (b-a)/n\n",
    "    X = [a+i*h for i in range(n+1)]\n",
    "    result = 0\n",
    "    for i in range(n+1): # i = 0, 1, ..., n\n",
    "        if i == 0 or i == n:\n",
    "            result += f(X[i])\n",
    "        elif i%2 == 0:\n",
    "            result += 2 * f(X[i])\n",
    "        else:\n",
    "            result += 4 * f(X[i])\n",
    "    result *= h/3\n",
    "    error = abs(-1/180 * h**4 * (b-a) * M)\n",
    "    return result, error"
   ]
  },
  {
   "cell_type": "markdown",
   "metadata": {},
   "source": [
    "## Numeric Differentiation\n"
   ]
  },
  {
   "cell_type": "markdown",
   "metadata": {},
   "source": [
    "### Numeric Derivative with step-size $h$\n",
    "\n",
    "$ f'(x) \\approx D_h f(x) = \\frac{f(x) - f(x-h)}{h} $\n",
    "\n",
    "The majorant of the error associated with this approximation is $ |E_T| \\le \\frac{1}{2} h M $, where $ M = \\max_{x-h \\le c \\le x}{|f''(c)|} $."
   ]
  },
  {
   "cell_type": "markdown",
   "metadata": {},
   "source": [
    "### Middle Point Rule or Central Differences Rule\n",
    "\n",
    "**First derivative:**\n",
    "\n",
    "$ f'(x) \\approx \\frac{f(x+h) - f(x-h)}{2h} $\n",
    "\n",
    "The majorant of the error associated with this approximation is $ |E_T| \\le -\\frac{1}{6} h^2 M $, where $ M = \\max_{x-h \\le c \\le x+h}{|f'''(c)|} $.\n",
    "\n",
    "\n",
    "**Second derivative:**\n",
    "\n",
    "$ f'(x) \\approx \\frac{f(x+h) - 2f(x) + f(x-h)}{h^2} $\n",
    "\n",
    "The majorant of the error associated with this approximation is $ |E_T| \\le -\\frac{1}{12} h^2 M $, where $ M = \\max_{x-h \\le c \\le x+h}{|f''''(c)|} $."
   ]
  },
  {
   "cell_type": "markdown",
   "metadata": {},
   "source": [
    "### Implementations"
   ]
  },
  {
   "cell_type": "code",
   "execution_count": null,
   "metadata": {},
   "outputs": [],
   "source": [
    "# approximation by the Numeric Derivative with step-size h\n",
    "# f: function\n",
    "# M = max | f''(c) | , x-h < c < x\n",
    "def first_derivative_numeric(f, x, h, M):\n",
    "    result = (f(x) - f(x-h))/h\n",
    "    error = h * M / 2\n",
    "    return result, error\n",
    "\n",
    "# approximation of the first derivative by the Middle Point Rule / Central Differences Rule\n",
    "# f: function\n",
    "# M = max | f'''(c) | , x-h < c < x+h\n",
    "def first_derivative_central_diffs(f, x, h, M):\n",
    "    result = (f(x+h) - f(x-h))/(2*h)\n",
    "    error = h**2 * M / 6\n",
    "    return result, error\n",
    "\n",
    "# approximation of the second derivative by the Middle Point Rule / Central Differences Rule\n",
    "# f: function\n",
    "# M = max | f''''(c) | , x-h < c < x+h\n",
    "def second_derivative_central_diffs(f, x, h, M):\n",
    "    result = (f(x+h) - 2*f(x) + f(x-h))/(h**2)\n",
    "    error = h**2 * M / 12\n",
    "    return result, error"
   ]
  },
  {
   "cell_type": "markdown",
   "metadata": {},
   "source": [
    "### Warnings\n",
    "\n",
    "Sometimes a list / table of points $(x, f(x))$ can be given instead of the function definition and the interval.\n",
    "\n",
    "In that case, the functions defined above cannot be used, and the error cannot be estimated.\n",
    "\n",
    "Instead, follow these guidelines:\n",
    "\n",
    "**1)**  \n",
    "Define a dictionary such that each point (x, f(x)) is a pair key-value in the dictionary, and create a function that returns the value to the given key.  \n",
    "Example:\n",
    "| x | f(x) |\n",
    "|:-:|:----:|\n",
    "| 0.1 | 0.033 |\n",
    "| 0.2 | 0.124 |\n",
    "| 0.3 | 0.222 |\n",
    "\n",
    "```\n",
    "def f(x):\n",
    "    table = {\n",
    "        0.1: 0.033,\n",
    "        0.2: 0.124,\n",
    "        0.3: 0.222\n",
    "    }\n",
    "    return table[x]\n",
    "```\n",
    "\n",
    "<br>\n",
    "\n",
    "**2)**  \n",
    "Check if you can apply the formulas used above, or if you need to rewrite them.  \n",
    "Considering the example above, for $h=0.1$, we can't calculate $f'(0.1)$, since we don't know the value of $ f(0.1-h) = f(0.0) $.  \n",
    "However, we can redefine the expression like this:\n",
    "\n",
    "$ f'(x) \\approx \\frac{f(x) - f(x-h)}{h} = \\frac{f(x+h) - f(x)}{h} $\n",
    "\n",
    "So, the function can be redefined as  \n",
    "```\n",
    "def first_derivative_numeric(f, x, h):\n",
    "    result = (f(x+h) - f(x))/h\n",
    "    return result\n",
    "```"
   ]
  }
 ],
 "metadata": {
  "kernelspec": {
   "display_name": "base",
   "language": "python",
   "name": "python3"
  },
  "language_info": {
   "codemirror_mode": {
    "name": "ipython",
    "version": 3
   },
   "file_extension": ".py",
   "mimetype": "text/x-python",
   "name": "python",
   "nbconvert_exporter": "python",
   "pygments_lexer": "ipython3",
   "version": "3.9.7"
  }
 },
 "nbformat": 4,
 "nbformat_minor": 2
}

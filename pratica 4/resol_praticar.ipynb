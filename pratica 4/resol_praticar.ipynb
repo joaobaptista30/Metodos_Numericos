{
 "cells": [
  {
   "cell_type": "markdown",
   "metadata": {},
   "source": [
    "EX2 exercicios exemplo TP4"
   ]
  },
  {
   "cell_type": "code",
   "execution_count": 11,
   "metadata": {},
   "outputs": [
    {
     "name": "stdout",
     "output_type": "stream",
     "text": [
      "Valor aproximado= 11.86670\n",
      "Erro= 0.00003\n",
      "\n",
      "Valor aproximado= 11.86670\n",
      "Erro= 0.00003\n"
     ]
    }
   ],
   "source": [
    "#regra de Simpson composta\n",
    "a,b=1,2\n",
    "n=8\n",
    "M=24\n",
    "\n",
    "def func(x):\n",
    "    return (1+x**2)**2\n",
    "\n",
    "def composta_reg_Simpson(a,b,n,f,M):\n",
    "    h=(b-a)/n\n",
    "    soma_par=0\n",
    "    for i in range(n+1):\n",
    "        xi=a+h*i\n",
    "        if(i==0 or i==n):\n",
    "            soma_par+=f(xi)\n",
    "        elif(i%2==0):\n",
    "            soma_par+=2*f(xi)\n",
    "        else:\n",
    "            soma_par+=4*f(xi)\n",
    "    \n",
    "    soma_final=soma_par*(h/3)\n",
    "    erro=abs((h**4/180)*(b-a)*M)\n",
    "    \n",
    "    print(f\"Valor aproximado= {soma_final:.5f}\\nErro= {erro:.5f}\")\n",
    "\n",
    "\n",
    "def composite_simpson(f, a, b, n, M):\n",
    "    h = (b-a)/n\n",
    "    X = [a+i*h for i in range(n+1)]\n",
    "    result = 0\n",
    "    for i in range(n+1): # i = 0, 1, ..., n\n",
    "        if i == 0 or i == n:\n",
    "            result += f(X[i])\n",
    "        elif i%2 == 0:\n",
    "            result += 2 * f(X[i])\n",
    "        else:\n",
    "            result += 4 * f(X[i])\n",
    "    result *= h/3\n",
    "    error = abs(-1/180 * h**4 * (b-a) * M)\n",
    "    print(f\"Valor aproximado= {result:.5f}\\nErro= {error:.5f}\")\n",
    "\n",
    "\n",
    "composta_reg_Simpson(a,b,n,func,M)\n",
    "print(\"\")\n",
    "composite_simpson(func,a,b,n,M)"
   ]
  },
  {
   "cell_type": "markdown",
   "metadata": {},
   "source": [
    "EX1 "
   ]
  },
  {
   "cell_type": "code",
   "execution_count": 14,
   "metadata": {},
   "outputs": [
    {
     "name": "stdout",
     "output_type": "stream",
     "text": [
      "Valor f'(0.5)= -0.750\n"
     ]
    }
   ],
   "source": [
    "h=0.1\n",
    "\n",
    "def func(x):\n",
    "    tabela={\n",
    "        0.3:0.91,\n",
    "        0.4:0.85,\n",
    "        0.5:0.78,\n",
    "        0.6:0.70,\n",
    "        0.7:0.61\n",
    "    }\n",
    "    return tabela [x]\n",
    "\n",
    "\n",
    "\n",
    "def diff_centrais(x,h,f):\n",
    "    #erro = nao da para calcular pois nao temos a funcao \n",
    "    valor=(f(x+h)-f(x-h))/(2*h)\n",
    "    print(f\"Valor f'({x})= {valor:.3f}\")\n",
    "\n",
    "\n",
    "diff_centrais(0.5,h,func)\n",
    "    "
   ]
  }
 ],
 "metadata": {
  "kernelspec": {
   "display_name": "Python 3",
   "language": "python",
   "name": "python3"
  },
  "language_info": {
   "codemirror_mode": {
    "name": "ipython",
    "version": 3
   },
   "file_extension": ".py",
   "mimetype": "text/x-python",
   "name": "python",
   "nbconvert_exporter": "python",
   "pygments_lexer": "ipython3",
   "version": "3.11.7"
  }
 },
 "nbformat": 4,
 "nbformat_minor": 2
}

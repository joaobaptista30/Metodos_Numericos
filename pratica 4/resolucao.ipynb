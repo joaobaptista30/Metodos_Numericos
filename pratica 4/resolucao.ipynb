{
 "cells": [
  {
   "cell_type": "markdown",
   "metadata": {},
   "source": [
    "Resolução da ficha 4 MN"
   ]
  },
  {
   "cell_type": "markdown",
   "metadata": {},
   "source": [
    "EX1 regras simples"
   ]
  },
  {
   "cell_type": "code",
   "execution_count": 12,
   "metadata": {},
   "outputs": [
    {
     "name": "stdout",
     "output_type": "stream",
     "text": [
      "Valor aprox: 2.72 -- Erro: 3.7e+00\n",
      "Valor aprox: 5.05 -- Erro: 6.2e-01\n",
      "Valor aprox: 4.67 -- Erro: 2.6e-03\n"
     ]
    }
   ],
   "source": [
    "#ex1\n",
    "import math\n",
    "intervalo=[1,2]\n",
    "valor_max_1der=math.e**2 #der de math.e é sempre math.e logo vao ser sempre iguais\n",
    "\n",
    "def func(x):\n",
    "    return math.e**x\n",
    "\n",
    "\n",
    "def metodo_ret(f,f_der1_max,intervalo):\n",
    "    val_aprox=(intervalo[1]-intervalo[0])*f(intervalo[0])\n",
    "    erro=(intervalo[1]-intervalo[0])/2*f_der1_max\n",
    "    print(f\"Valor aprox: {val_aprox:.2f} -- Erro: {erro:.1e}\")\n",
    "\n",
    "def metodo_trap(f,f_der2_max,intervalo)    :\n",
    "    val_aprox=(intervalo[1]-intervalo[0])/2*(f(intervalo[0])+f(intervalo[1]))\n",
    "    erro=((intervalo[1]-intervalo[0])**2)/12*f_der2_max\n",
    "    print(f\"Valor aprox: {val_aprox:.2f} -- Erro: {erro:.1e}\")\n",
    "\n",
    "def metodo_simpson(f,f_der4_max,intervalo):\n",
    "    ponto_medio=(intervalo[1]+intervalo[0])/2\n",
    "    val_aprox=(intervalo[1]-intervalo[0])/6 * (f(intervalo[0])+f(intervalo[1])+4*f(ponto_medio))\n",
    "    erro=(((intervalo[1]-intervalo[0])/2)**5)/90 * f_der4_max\n",
    "    print(f\"Valor aprox: {val_aprox:.2f} -- Erro: {erro:.1e}\")\n",
    "\n",
    "\n",
    "metodo_ret(func,valor_max_1der,intervalo)\n",
    "metodo_trap(func,valor_max_1der,intervalo)\n",
    "metodo_simpson(func,valor_max_1der,intervalo)\n"
   ]
  },
  {
   "cell_type": "markdown",
   "metadata": {},
   "source": [
    "EX2 regras compostas"
   ]
  },
  {
   "cell_type": "code",
   "execution_count": 5,
   "metadata": {},
   "outputs": [
    {
     "name": "stdout",
     "output_type": "stream",
     "text": [
      "Valor aprox: 4.11 -- Erro: 0.924\n",
      "Valor aprox: 4.111\n",
      "Erro: 0.924\n"
     ]
    }
   ],
   "source": [
    "#ex2 usamos as regras simples para cada particao nas compostas\n",
    "import math\n",
    "a=1 \n",
    "b=2\n",
    "extremos=[a,b]\n",
    "valor_max_der=math.e**2 #der de math.e é sempre math.e logo vao ser sempre iguais\n",
    "n=4\n",
    "h=(extremos[1]-extremos[0])/n\n",
    "inter=[1]\n",
    "for i in range(n): #criar os pontos dos intervalos\n",
    "    inter.append(inter[i]+h)\n",
    "\n",
    "def metodo_ret(f,intervalo):\n",
    "    val_aprox=(intervalo[1]-intervalo[0])*f(intervalo[0])\n",
    "    return val_aprox\n",
    "\n",
    "def metodo_trap(f,intervalo):\n",
    "    val_aprox=(intervalo[1]-intervalo[0])/2*(f(intervalo[0])+f(intervalo[1]))\n",
    "    return val_aprox\n",
    "\n",
    "def metodo_simpson(f,intervalo):\n",
    "    ponto_medio=(intervalo[1]+intervalo[0])/2\n",
    "    val_aprox=(intervalo[1]-intervalo[0])/6 * (f(intervalo[0])+f(intervalo[1])+4*f(ponto_medio))\n",
    "    return val_aprox\n",
    "\n",
    "def func(x):\n",
    "    return math.e**x\n",
    "\n",
    "def comp_met_ret(n,f,intervalo,h,valor_max_der1):\n",
    "    val_aprox=0\n",
    "    for i in range(n):\n",
    "        val_aprox+=metodo_ret(f,intervalo[i:])\n",
    "    erro=abs((2-1)/2*h*valor_max_der1)\n",
    "    print(f\"Valor aprox: {val_aprox:.2f} -- Erro: {erro:.3f}\")   \n",
    "\n",
    "def composite_rectangles(f, a, b, n, M):\n",
    "    h = (b-a)/n\n",
    "    X = [a+i*h for i in range(n+1)]\n",
    "    result = 0\n",
    "    for i in range(n):\n",
    "        result += f(X[i])\n",
    "    result *= h\n",
    "    error = 1/2 * (b-a) * h * M\n",
    "    print(f\"Valor aprox: {result:.3f} -- Erro: {error:.3f}\")\n",
    "\n",
    "\n",
    "def comp_met_trap(a,b,n,f,M):\n",
    "    h=(b-a)/n\n",
    "    soma_parc=0\n",
    "    for i in range (1,n):\n",
    "        xi=a+h*i\n",
    "        soma_parc+=h*f(xi)\n",
    "\n",
    "    valor_final=(h/2)*(f(a)+f(b))+soma_parc  \n",
    "    erro=abs((h**2/12)*(b-a)*M)\n",
    "\n",
    "    print(f\"Valor aprox: {valor_final:.3f} -- Erro: {erro:.3f}\")    \n",
    "\n",
    "def composite_trapezes(f, a, b, n, M):\n",
    "    h = (b-a)/n\n",
    "    X = [a+i*h for i in range(n)]\n",
    "    result = h/2 * (f(a) + f(b))\n",
    "    for i in range(1, n): # i = 1, 2, ..., n-1\n",
    "        result += h*f(X[i])\n",
    "    error = abs(-1/12 * h**2 * (b-a) * M)\n",
    "    print(f\"Valor aprox: {result:.3f} -- Erro: {error:.3f}\")\n",
    "\n",
    "\n",
    "comp_met_ret(n,func,inter,h,valor_max_der)\n",
    "composite_rectangles(func,a,b,n,valor_max_der)\n",
    "#comp_met_trap(a,b,n,func,valor_max_der)\n",
    "#composite_trapezes(func,a,b,n,valor_max_der)\n",
    "\n"
   ]
  }
 ],
 "metadata": {
  "kernelspec": {
   "display_name": "Python 3",
   "language": "python",
   "name": "python3"
  },
  "language_info": {
   "codemirror_mode": {
    "name": "ipython",
    "version": 3
   },
   "file_extension": ".py",
   "mimetype": "text/x-python",
   "name": "python",
   "nbconvert_exporter": "python",
   "pygments_lexer": "ipython3",
   "version": "3.11.7"
  }
 },
 "nbformat": 4,
 "nbformat_minor": 2
}

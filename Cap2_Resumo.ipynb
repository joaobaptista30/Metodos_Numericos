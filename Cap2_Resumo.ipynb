{
 "cells": [
  {
   "cell_type": "markdown",
   "metadata": {},
   "source": [
    "# Resolution of Non-Linear Equations with Iterative Methods"
   ]
  },
  {
   "cell_type": "markdown",
   "metadata": {},
   "source": [
    "In this notebook we will approach 3 iterative methods to solve non-linear equations:\n",
    "- Successive Bisections Method (`[PT] Método das Bisseções Sucessivas`)\n",
    "- Simple Iterative Method (`[PT] Método Iterativo Simples`)\n",
    "- Newton's Method (`[PT] Método de Newton`)"
   ]
  },
  {
   "cell_type": "markdown",
   "metadata": {},
   "source": [
    "For all these methods, we will consider the equations of the type $ f(x) = g(x) $, and transform them in to the equivalent expression\n",
    "\n",
    "$ F(x) = 0 $\n",
    "\n",
    "where $ F(x) = f(x) - g(x) $."
   ]
  },
  {
   "cell_type": "markdown",
   "metadata": {},
   "source": [
    "## Successive Bisections Method\n",
    "\n",
    "We know that, for an interval $ [a,b] $, if\n",
    "- $F(x)$ is continuous in $[a,b]$\n",
    "- $F(a) \\times F(b) < 0$\n",
    "\n",
    "then there exists a solution to the equation $F(x) = 0$ in $[a,b]$\n"
   ]
  },
  {
   "cell_type": "markdown",
   "metadata": {},
   "source": [
    "We can succesively reduce this interval in half in de direction of the solution to find an interval that contains it."
   ]
  },
  {
   "cell_type": "markdown",
   "metadata": {},
   "source": [
    "### Implementation of the Successive Bisections Algorithm"
   ]
  },
  {
   "cell_type": "code",
   "execution_count": null,
   "metadata": {},
   "outputs": [],
   "source": [
    "def F(x):\n",
    "    ...\n",
    "\n",
    "def successive_bisections(f, a, b, error, iter_max=10000):\n",
    "    n = 0 # number of iterations\n",
    "    delta = (b-a)/(2**n)\n",
    "    while not (abs(delta) <= abs(error)) and n < iter_max:\n",
    "        m = (a+b)/2\n",
    "        if f(m) == 0: # if m is the solution\n",
    "            delta = 0\n",
    "            return m\n",
    "        \n",
    "        # if m is not the solution\n",
    "        elif f(m)*f(a) < 0: # if the solution is in [a,m]\n",
    "            b = m\n",
    "        elif f(m)*f(a) > 0: # if the solution is in [m,b]\n",
    "            a = m\n",
    "\n",
    "        # update delta and number of iterations\n",
    "        delta /= 2\n",
    "        n += 1\n",
    "    \n",
    "    return m"
   ]
  },
  {
   "cell_type": "markdown",
   "metadata": {},
   "source": [
    "## Simple Iterative Method\n",
    "\n",
    "If we have an equation of the family $F(x) = 0 \\Leftrightarrow x = f(x) $ and $f$ respects the following conditions:\n",
    "\n",
    "- $f$ is continuous in $[a,b]$\n",
    "- $f(x) \\in [a,b]$ for all $x \\in [a,b]$\n",
    "- $|f'(x)| < 1$ for all $ x \\in [a,b] $\n",
    "\n",
    "then, the succession $(x_n)_n$ created by $ x_{n+1} = f(x_n) $ converges to the solution in $[a,b]$."
   ]
  },
  {
   "cell_type": "markdown",
   "metadata": {},
   "source": [
    "The 3rd condition can also be substituted by $ |\\frac{f(x_1) - f(x_2)}{x_1 - x_2}| < 1 $."
   ]
  },
  {
   "cell_type": "markdown",
   "metadata": {},
   "source": [
    "### Majorant of the absolute error\n",
    "\n",
    "Firstly, we'll have $ |\\Delta x_0| $ be defined as $ |\\Delta x_0| = |a-b|$.\n",
    "\n",
    "From now on, we'll define $ L = \\max |f'(x)| $ for $ x \\in [a,b] $.\n",
    "\n",
    "We can define the majorant of the absolute error $ |\\Delta x_n| $ in two ways:\n",
    "- $ |\\Delta x_n| \\le L |\\Delta x_{n-1}| \\Rightarrow  |\\Delta x_n| \\le L^n |\\Delta x_0|$\n",
    "- $ |\\Delta x_n| \\le \\frac{L^n}{1-L} |x_1 - x_0| $\n",
    "\n",
    "Note: $x_0$ can be any value in $[a,b]$."
   ]
  },
  {
   "cell_type": "markdown",
   "metadata": {},
   "source": [
    "### How to determine the amount of iterations to perform to achieve an absolute error smaller than the majorant of the absolute error\n",
    "\n",
    "If we know, or if it is given, the value of the majorant of the absolute error, we can determine how many times we need to iterate to obtain $ x_n $.\n",
    "\n",
    "Knowing $ |\\Delta x_n| \\le L^n |\\Delta x_0| $, we get:"
   ]
  },
  {
   "cell_type": "markdown",
   "metadata": {},
   "source": [
    "$ |\\Delta x_n| \\le L^n |\\Delta x_0| \\Leftrightarrow $\n",
    "\n",
    "$ \\frac{|\\Delta x_n|}{|\\Delta x_0|} \\le L^n \\Leftrightarrow $\n",
    "\n",
    "$ \\log_L(\\frac{|\\Delta x_n|}{|\\Delta x_0|}) \\le n \\Leftrightarrow $\n",
    "\n",
    "$ n \\ge \\ln(\\frac{|\\Delta x_n|}{|\\Delta x_0|}) \\times \\frac{1}{\\ln(L)} $"
   ]
  },
  {
   "cell_type": "markdown",
   "metadata": {},
   "source": [
    "Note: in the case where $n$ is not a interger value, we must use at least the next interger value. For example, if **$n >= 9.02$**, then we must do at least **10** iterations."
   ]
  },
  {
   "cell_type": "markdown",
   "metadata": {},
   "source": [
    "### Stoping criteria\n",
    "\n",
    "1. Using the majorant of the absolute error  \n",
    "   Given a precision $ε$, iterate until $ |\\Delta x_n| \\le ε $.\n",
    "\n",
    "2. Using an estimate of the absolute error\n",
    "   Given a precision $ε$, iterate until $ |x_n - x_{n-1}| \\le ε $\n",
    "\n",
    "3. Using an estimate of the relative error\n",
    "   Given a precision $ε$, iterate until $ \\frac{|x_n - x_{n-1}|}{|x_n|} \\le ε $\n",
    "\n",
    "4. Using the number of iterations  \n",
    "   After calculating n (you can use python's `math` library to perform the necessary calculations), iterate n times\n",
    "   "
   ]
  },
  {
   "cell_type": "markdown",
   "metadata": {},
   "source": [
    "### Implementation of the Simple Iterative Method"
   ]
  },
  {
   "cell_type": "code",
   "execution_count": null,
   "metadata": {},
   "outputs": [],
   "source": [
    "# given the equation F(x) = 0, we will transform into an equivalent expression of the type x = f(x)\n",
    "# this function defines that \"f(x)\", not the \"F(x)\" expression\n",
    "def f(x):\n",
    "    ...\n",
    "\n",
    "# using the largest absolute error for the stoping criteria\n",
    "def simple_iterative(f, a, b, eps, L):\n",
    "    x0 = a\n",
    "    x1 = f(x0)\n",
    "    n = 1\n",
    "    largest_error = abs(b-a)\n",
    "    while not (largest_error <= eps):\n",
    "        x0 = x1\n",
    "        x1 = f(x0)\n",
    "        largest_error *= L\n",
    "        n += 1\n",
    "    \n",
    "    return x1, largest_error\n",
    "    "
   ]
  },
  {
   "cell_type": "markdown",
   "metadata": {},
   "source": [
    "## Newton's Method"
   ]
  },
  {
   "cell_type": "markdown",
   "metadata": {},
   "source": [
    "Before trying to find a solution for an equation $ F(x) = 0 $ in an interval $[a,b]$ with Newton's Method, we need to verify the following conditions:\n",
    "\n",
    "- $F$, $F'$ and $F''$ must be defined and be continuous in $[a,b]$\n",
    "- $ F(a) \\times F(b) < 0 $\n",
    "- $ F'(x) \\ne 0 $ for all $x \\in [a,b]$  \n",
    "  (always increasing or decreasing)\n",
    "- $ F''(x) \\ge 0 $ **or** $ F''(x) \\le 0 $ for all $x \\in [a,b]$  \n",
    "  (concavity always upwards or downwards)\n",
    "- $ F(x_0) \\times F''(x_0) > 0 $, for $x_0 \\in [a,b]$\n",
    "\n",
    "If all conditions are met, then the succession defined by\n",
    "\n",
    "$ x_{n+1} = x_{n} - \\frac{F(x_n)}{F'(x_n)} $\n",
    "\n",
    "converges to the only existing solution $x$ of $ F(x) = 0 $ in $ [a,b] $.\n",
    "\n",
    "We'll define a function $ f(x) = x - \\frac{F(x)}{F'(x)} $ to represent this succession.\n",
    "\n",
    "This means that we want to iterate over $ f(x) $ enough times until we achieve the desired maximum amount of error."
   ]
  },
  {
   "cell_type": "markdown",
   "metadata": {},
   "source": [
    "### Majorant of absolute error\n",
    "\n",
    "We can calculate the majorant of the absolute error of the $n$-th, $|\\Delta x_n|$ iteration by computing\n",
    "\n",
    "$|\\Delta x_n| \\le M |\\Delta x_{n-1}|^2 \\Rightarrow $\n",
    "\n",
    "$\\Rightarrow |\\Delta x_n| \\le M^{2^n - 1} |\\Delta x_0|^{2^n} $\n",
    "\n",
    "where $ M = \\frac{1}{2} \\frac{\\max{|F''(x)|}}{\\min{|F'(x)|}} $ for $x \\in [a,b]$.\n",
    "\n",
    "We define $|\\Delta x_0|$ as $b-a$."
   ]
  },
  {
   "cell_type": "markdown",
   "metadata": {},
   "source": [
    "### Number of iterations to achieve an absolute error smaller than a given error ε\n",
    "\n",
    "Knowing that $ |\\Delta x_n| \\le M^{2^n - 1} |\\Delta x_0|^{2^n} $, we can conclude:\n",
    "\n",
    "$ |\\Delta x_n| \\le ε \\Leftrightarrow M^{2^n - 1} |\\Delta x_0|^{2^n} \\le ε \\Leftrightarrow n \\ge \\frac{\\ln \\alpha}{\\ln 2} $\n",
    "\n",
    "where $ \\alpha = \\frac{\\ln ε + \\ln M}{\\ln M + \\ln |\\Delta x_0|} $ "
   ]
  },
  {
   "cell_type": "markdown",
   "metadata": {},
   "source": [
    "## Implementation of the Newton's Method"
   ]
  },
  {
   "cell_type": "code",
   "execution_count": null,
   "metadata": {},
   "outputs": [],
   "source": [
    "def F(x): # function from the expression F(x) = 0 that we're trying to solve\n",
    "    ...\n",
    "\n",
    "def F_derivative(x):\n",
    "    ...\n",
    "\n",
    "def f(x): # function that we will iterate in the Newton's Method\n",
    "    return x - F(x)/F_derivative(x)\n",
    "\n",
    "def newton_method(x0, a, b, error, M):\n",
    "    majorant_error = abs(b-a)\n",
    "    n = 0 # number of iterations\n",
    "    while not majorant_error <= error:\n",
    "        x1 = f(x0)\n",
    "        majorant_error = M * majorant_error**2\n",
    "        x0 = x1\n",
    "        n += 1\n",
    "    return x0, majorant_error, n"
   ]
  },
  {
   "cell_type": "markdown",
   "metadata": {},
   "source": [
    "This implementation uses the majorant of the absolute error for the stopping criteria, but just like on the Simple Iterative Method, you can choose any of the following stopping criteria if there are no restrictions:\n",
    "- Stopping when $ |\\Delta x_n| <= ε $\n",
    "- Stopping when $ |x_{n+1} - x_n| <= ε $ (estimate of the absolute error / \"empirical error\")\n",
    "- Stopping when $ |\\Delta x_n| <= ε $ (estimate of the relative error)\n",
    "- Stopping when $ n = iterations(ε) $ (calculating beforehand the number of iterations)\n",
    "\n",
    "where $iterations(ε)$ represents the smallest number of iterations needed such that the majorant of the absoulte error is smaller than $ε$."
   ]
  },
  {
   "cell_type": "markdown",
   "metadata": {},
   "source": [
    "Notebook criado por António Cardoso em 2023 para a Unidade Curricular \"Métodos Numéricos (M2039)\" na Faculdade de Ciências da Universidade do Porto."
   ]
  }
 ],
 "metadata": {
  "kernelspec": {
   "display_name": "base",
   "language": "python",
   "name": "python3"
  },
  "language_info": {
   "codemirror_mode": {
    "name": "ipython",
    "version": 3
   },
   "file_extension": ".py",
   "mimetype": "text/x-python",
   "name": "python",
   "nbconvert_exporter": "python",
   "pygments_lexer": "ipython3",
   "version": "3.9.7"
  }
 },
 "nbformat": 4,
 "nbformat_minor": 2
}

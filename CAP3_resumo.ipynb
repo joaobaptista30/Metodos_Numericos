{
 "cells": [
  {
   "cell_type": "markdown",
   "metadata": {},
   "source": [
    "# Polinomial Interpolation, Splines and Minimum Squares Approximation"
   ]
  },
  {
   "cell_type": "markdown",
   "metadata": {},
   "source": [
    "## Polinomial Interpolation - Lagrange Method"
   ]
  },
  {
   "cell_type": "markdown",
   "metadata": {},
   "source": [
    "#### Defining the polynomial"
   ]
  },
  {
   "cell_type": "markdown",
   "metadata": {},
   "source": [
    "Given a set of $n+1$ points $(x_i, y_i)$, we can form a polynomial $p_n$ of degree at most $n$ defined by:\n",
    "\n",
    "$ p_n(x) = l_0(x) f_0 + l_1(x) f_1 + ... + l_n(x) f_n $\n",
    "\n",
    "In other words:\n",
    "\n",
    "$ p_n(x) = \\Sigma_{k=0}^{n}{l_k(x)f_k}$"
   ]
  },
  {
   "cell_type": "markdown",
   "metadata": {},
   "source": [
    "Definition of $ l_k(x) $:\n",
    "\n",
    "$ l_k(x) = \\frac{(x-x_0)...(x-x_{k-1})(x-x_{k+1})...(x-x_n)}{(x_k-x_0)...(x_k-x_{k-1})(x_k-x_{k+1})...(x_k-x_n)} \\Leftrightarrow$\n",
    "\n",
    "$ l_k(x) = \\Pi_{i=0}^{n}{\\frac{x-x_i}{x_k-x_i}} $ and $i \\ne k$"
   ]
  },
  {
   "cell_type": "markdown",
   "metadata": {},
   "source": [
    "#### Error in Polynomial Interpolation"
   ]
  },
  {
   "cell_type": "markdown",
   "metadata": {},
   "source": [
    "We can describe the error of the approximation of the polynomial with the following expression:\n",
    "\n",
    "$ |E_n(x)| = |f(x) - p_n(x)| \\le \\frac{M}{(n+1)!} \\pi_{n+1}(x) $ \n",
    "\n",
    "where $ M = \\max{|f^{(n+1)}(x)|} $ for $ x \\in [a,b] $\n",
    "\n",
    "and where $ \\pi_{n+1}(x) = (x-x_0)(x-x_1)...(x-x_n) $\n",
    "\n",
    "`This value will have to be calculated analytically.`"
   ]
  },
  {
   "cell_type": "markdown",
   "metadata": {},
   "source": [
    "### Implementation of Polynomial Interpolation by the Lagrange Method"
   ]
  },
  {
   "cell_type": "code",
   "execution_count": 1,
   "metadata": {},
   "outputs": [],
   "source": [
    "# x -> the value which we're going to calculate the approximation of\n",
    "# x_vals -> list of x values available/given\n",
    "# f_vals -> list of f values such that f_vals[i] = f(x_vals[i]), also given\n",
    "\n",
    "def interpolation(x, x_vals, f_vals):\n",
    "    result = 0\n",
    "    for k in range(len(x_vals)):\n",
    "        # calculate the value of l_k\n",
    "        l_k = 1\n",
    "        for i in range(len(x_vals)):\n",
    "            if (i == k):\n",
    "                continue\n",
    "            l_k *= (x - x_vals[i]) / (x_vals[k] - x_vals[i])\n",
    "        # calculate l_k * f_k\n",
    "        result += l_k * f_vals[k]\n",
    "    return result"
   ]
  },
  {
   "cell_type": "markdown",
   "metadata": {},
   "source": [
    "### What if we are given a list with more than $ n+1 $ points?\n",
    "\n",
    "We can only use $ n+1 $ points to make an approximation on a $n$-degree polynomial, so, how do we choose them?\n",
    "\n",
    "We would like to have the most equidistant points to the $x$ value we are using."
   ]
  },
  {
   "cell_type": "code",
   "execution_count": 2,
   "metadata": {},
   "outputs": [],
   "source": [
    "# degree -> the degree we want the polinomial to have (it also indicates us the size of lists)\n",
    "\n",
    "def format_lists(x, x_vals, y_vals, degree):\n",
    "    if (len(x_vals) == degree+1):\n",
    "        return x_vals, y_vals\n",
    "    i0 = 0 # variables to store the indexes that bound the intervals\n",
    "    i1 = 0\n",
    "    d = degree\n",
    "    # determine the two closest indexes such that x_vals[i0] <= x <= x_vals[i1]\n",
    "    for i in range(1, len(x_vals)):\n",
    "        if (x_vals[i-1] <= x and x <= x_vals[i]):\n",
    "            i0 = i-1\n",
    "            i1 = i\n",
    "            d -= 1\n",
    "            break\n",
    "    # expand the indexes that bound the list by choosing the values that are closer to the x value\n",
    "    while (d > 0):\n",
    "        # we can only expand to the right\n",
    "        if (i0 == 0): i1 += 1\n",
    "        # we can only expand to the left\n",
    "        elif (i1 == len(x_vals)-1): i0 -= 1\n",
    "        # expand such that it contains the next values closer to x\n",
    "        else:\n",
    "            if (abs(x_vals[i0-1]-x) > abs(x_vals[i1+1]-x)): i1 += 1\n",
    "            else: i0 -= 1\n",
    "        d -= 1\n",
    "    # slice the lists to the obtained boundaries\n",
    "    x_vals = x_vals[i0:i1+1]\n",
    "    y_vals = y_vals[i0:i1+1]\n",
    "    return x_vals, y_vals\n"
   ]
  },
  {
   "cell_type": "markdown",
   "metadata": {},
   "source": [
    "### New version of the Implementation of Polynomial Interpolation by the Lagrange Method"
   ]
  },
  {
   "cell_type": "code",
   "execution_count": 3,
   "metadata": {},
   "outputs": [],
   "source": [
    "def format_lists(x, x_vals, y_vals, degree):\n",
    "    if (len(x_vals) == degree+1):\n",
    "        return x_vals, y_vals\n",
    "    i0 = 0 # variables to store the indexes that bound the intervals\n",
    "    i1 = 0\n",
    "    d = degree\n",
    "    # determine the two closest indexes such that x_vals[i0] <= x <= x_vals[i1]\n",
    "    for i in range(1, len(x_vals)):\n",
    "        if (x_vals[i-1] <= x and x <= x_vals[i]):\n",
    "            i0 = i-1\n",
    "            i1 = i\n",
    "            d -= 1\n",
    "            break\n",
    "    # expand the indexes that bound the list by choosing the values that are closer to the x value\n",
    "    while (d > 0):\n",
    "        # we can only expand to the right\n",
    "        if (i0 == 0): i1 += 1\n",
    "        # we can only expand to the left\n",
    "        elif (i1 == len(x_vals)-1): i0 -= 1\n",
    "        # expandir de forma a conter o x_i mais proximo de x\n",
    "        # expand such that it contains the next values closer to x\n",
    "        else:\n",
    "            if (abs(x_vals[i0-1]-x) > abs(x_vals[i1+1]-x)): i1 += 1\n",
    "            else: i0 -= 1\n",
    "        d -= 1\n",
    "    # slice the lists to the obtained boundaries\n",
    "    x_vals = x_vals[i0:i1+1]\n",
    "    y_vals = y_vals[i0:i1+1]\n",
    "    return x_vals, y_vals\n",
    "\n",
    "def interpolation(x, x_vals, f_vals, degree):\n",
    "    x_vals, f_vals = format_lists(x, x_vals, f_vals, degree)\n",
    "    result = 0\n",
    "    for k in range(len(x_vals)):\n",
    "        # calculate the value of l_k\n",
    "        l_k = 1\n",
    "        for i in range(len(x_vals)):\n",
    "            if (i == k):\n",
    "                continue\n",
    "            l_k *= (x - x_vals[i]) / (x_vals[k] - x_vals[i])\n",
    "        # calculate l_k * f_k\n",
    "        result += l_k * f_vals[k]\n",
    "    return result"
   ]
  },
  {
   "cell_type": "markdown",
   "metadata": {},
   "source": [
    "## Newton's Divided Differences"
   ]
  },
  {
   "cell_type": "markdown",
   "metadata": {},
   "source": [
    "### Definition of a Newton's Divided Difference\n",
    "\n",
    "We define the value of a divided difference of order $n$ by:\n",
    "\n",
    "$ f[x_0, ..., x_n] = (f[x_1, ..., x_n] - f[x_0, ..., x_{n+1}]) / (x_n - x_0) $\n",
    "\n",
    "A more general definition of a divided difference of order $j$, starting at $x_i$: \n",
    "\n",
    "$ f[x_i, ..., x_{i+j}] = (f[x_{i+1}, ..., x_{i+j}] - f[x_i, ..., x_{i+j-1}]) / (x_{i+j} - x_i) $"
   ]
  },
  {
   "cell_type": "markdown",
   "metadata": {},
   "source": [
    "We can create a table with columns that contain the values for certain degree divided differences."
   ]
  },
  {
   "cell_type": "markdown",
   "metadata": {},
   "source": [
    "### Implementation of Divided Differences Table Computation"
   ]
  },
  {
   "cell_type": "code",
   "execution_count": 4,
   "metadata": {},
   "outputs": [],
   "source": [
    "# X: list of x values\n",
    "# F: list of correspondent x values passed to the function f\n",
    "\n",
    "def divided_differences_table(X, F):\n",
    "    table = [[0 for _ in range(len(X))] for _ in range(len(X))] # left-most columns filled with the f values\n",
    "    for j in range(len(F)):\n",
    "        for i in range(len(F)-1-j, -1, -1):\n",
    "            if j == 0:\n",
    "                table[i][j] = F[i]\n",
    "            else:\n",
    "                table[i][j] = (table[i+1][j-1] - table[i][j-1]) / (X[i+j] - X[i])\n",
    "    return table"
   ]
  },
  {
   "cell_type": "markdown",
   "metadata": {},
   "source": [
    "### Getting the approximation value using Newton's Divided Differences"
   ]
  },
  {
   "cell_type": "markdown",
   "metadata": {},
   "source": [
    "After getting the table, we want to compute the approximation for the value we're trying to calculate.\n",
    "\n",
    "To perform that calculation, we use the approximation:\n",
    "\n",
    "$ p_n(x) = f(x_0) + (x-x_0) f[x_0, x_1] + ... + (x-x_0)(x-x_1)...(x-x_{n-1})f[x_0, x_1, ..., x_n] $\n",
    "\n",
    "Which is equivalent to:\n",
    "\n",
    "$ p_n(x) = f(x_0) + \\sum_{j=1}^{n}{\\pi_{j}(x) f[x_0, ..., x_j]} $"
   ]
  },
  {
   "cell_type": "code",
   "execution_count": 5,
   "metadata": {},
   "outputs": [],
   "source": [
    "def divided_differences_approximation(x, X, F):\n",
    "    table = divided_differences_table(X, F)\n",
    "    result = table[0][0]\n",
    "    for j in range(1, len(X)):\n",
    "        # calculate pi_i(x)\n",
    "        pi_i = 1\n",
    "        for k in range(j):\n",
    "            pi_i *= x-X[k]\n",
    "        # sum pi_i(x) * f[x_0, ..., x_i]\n",
    "        result += pi_i * table[0][j]\n",
    "    return result"
   ]
  },
  {
   "cell_type": "markdown",
   "metadata": {},
   "source": [
    "Testing with the theoretical class example:"
   ]
  },
  {
   "cell_type": "code",
   "execution_count": 6,
   "metadata": {},
   "outputs": [
    {
     "name": "stdout",
     "output_type": "stream",
     "text": [
      " 0.33243\n"
     ]
    }
   ],
   "source": [
    "X = [2.1, 2.2, 2.3, 2.4, 2.5]\n",
    "F = [0.32222, 0.34242, 0.36173, 0.38021, 0.39794]\n",
    "\n",
    "x = 2.15\n",
    "\n",
    "print(f\"{divided_differences_approximation(x, X, F): .5f}\")"
   ]
  },
  {
   "cell_type": "markdown",
   "metadata": {},
   "source": [
    "## Splines"
   ]
  },
  {
   "cell_type": "markdown",
   "metadata": {},
   "source": [
    "### Linear Splines\n",
    "\n",
    "Polynomial interpolation by splines divides the domain/interval of approximation into segments and produces an approximated function for each segment.\n",
    "\n",
    "In particular, Linear Splines compute **linear polynomials** to approximate the exact function in each segment.\n",
    "\n",
    "Let $ S_i $ be the spline function that approximates the function at the $i$-th interval $(x_{i-1} \\le x \\le x_i)$.\n",
    "\n",
    "Then, these splines must follow $ S_i(x_{i-1}) = f_{i-1} $ and $ S_i(x_i) = f_i $"
   ]
  },
  {
   "cell_type": "markdown",
   "metadata": {},
   "source": [
    "We can define the spline for the $i$-th interval by:\n",
    "\n",
    "$ S_i(x) = \\frac{x-x_{i-1}}{h_i} f_i - \\frac{x-x_i}{h_i} f_{i-1} $ with $ h_i = x_i - x_{i-1} $"
   ]
  },
  {
   "cell_type": "markdown",
   "metadata": {},
   "source": [
    "The majorant of the error of an approximation by Linear Splines can be calculated by:\n",
    "\n",
    "$ |f(x)-S(x)| \\le \\frac{1}{8}Mh^2 $\n",
    "\n",
    "where\n",
    "\n",
    "- $ M = \\max_{x\\in[a,b]}{|f''(x)|} $\n",
    "- $ h = \\max{h_i} $"
   ]
  },
  {
   "cell_type": "markdown",
   "metadata": {},
   "source": [
    "Should we compute the splines for each interval if we want to find the approximated value for a point $x$?\n",
    "\n",
    "No! We only need to identify which interval contains $x$, and calculate the value for that specific $x$ value."
   ]
  },
  {
   "cell_type": "markdown",
   "metadata": {},
   "source": [
    "### Linear Splines - Implementation"
   ]
  },
  {
   "cell_type": "code",
   "execution_count": 7,
   "metadata": {},
   "outputs": [],
   "source": [
    "def spline_linear(x, X, F):\n",
    "    # determine the values that bound x, and save their indexes\n",
    "    i0 = 0\n",
    "    i1 = 0\n",
    "    for i in range(1, len(X)):\n",
    "        if X[i-1] <= x and x <= X[i]:\n",
    "            i0 = i-1\n",
    "            i1 = i\n",
    "            break\n",
    "\n",
    "    # calculate the approximation by linear interpolation\n",
    "    l_0 = (x - X[i1]) / (X[i1] - X[i0])\n",
    "    l_1 = (x - X[i0]) / (X[i1] - X[i0])\n",
    "    return l_1 * F[i1] - l_0 * F[i0]"
   ]
  },
  {
   "cell_type": "markdown",
   "metadata": {},
   "source": [
    "Example:"
   ]
  },
  {
   "cell_type": "code",
   "execution_count": 8,
   "metadata": {},
   "outputs": [
    {
     "name": "stdout",
     "output_type": "stream",
     "text": [
      "0.75\n"
     ]
    }
   ],
   "source": [
    "X = [1, 2, 3, 4]\n",
    "F = [1, 1/2, 1/3, 1/4]\n",
    "\n",
    "print(spline_linear(1.5, X, F))"
   ]
  },
  {
   "cell_type": "markdown",
   "metadata": {},
   "source": [
    "### Cubic Splines\n",
    "\n",
    "Essentially, it follows the same idea as the linear splines.\n",
    "\n",
    "Considering $n$ intervals bounded by $n+1$ x values, we will define a Spline $S_i$ with a (at most) **cubic polynomial** for each interval.\n",
    "\n",
    "A cubic spline $S_i$ is defined as\n",
    "\n",
    "$ S_i(x) = M_{i-1} \\frac{(x_i - x)^3}{6 h_i} + M_i \\frac{(x-x_{i-1})^3}{6 h_i} + (f_{i-1} - M_{i-1} \\frac{h_i^2}{6}) \\frac{x_i - x}{h_i} + (f_i - M_i \\frac{h_i^2}{6}) \\frac{x - x_{i-1}}{h_i} $"
   ]
  },
  {
   "cell_type": "markdown",
   "metadata": {},
   "source": [
    "Therefore, to construct a spline, we need to find the $M$ values.\n",
    "\n",
    "These can be computed by solving the system of $n+1$ equations, where $n-1$ of them are in the form\n",
    "\n",
    "$ \\frac{h_i}{6} M_{i-1} + \\frac{h_i + h_{i+1}}{3} M_i + \\frac{h_{i+1}}{6} M_{i+1} = \\frac{f_{i+1} - f_i}{h_{i+1}} - \\frac{f_i - f_{i-1}}{h_i} $\n",
    "\n",
    "with $ i = 1, ..., n-1 $."
   ]
  },
  {
   "cell_type": "markdown",
   "metadata": {},
   "source": [
    "The last 2 equations of the system depend on the type of the Spline:\n",
    "\n",
    "- Complete Cubic Spline  \n",
    "  $ \\frac{f_1 - f_0}{h_1} - \\frac{h_1}{6} M_1 - \\frac{h_1}{3} M_0 = f'_0 $  \n",
    "  $ \\frac{f_n - f_{n-1}}{h_n} - \\frac{h_n}{6} M_{n-1} - \\frac{h_n}{3} M_n = f'_n $\n",
    "\n",
    "- Natural Cubic Spline  \n",
    "  $ M_0 = 0 $  \n",
    "  $ M_n = 0 $"
   ]
  },
  {
   "cell_type": "markdown",
   "metadata": {},
   "source": [
    "### Error on the approximation using Cubic Splines\n",
    "\n",
    "The error can be calculated by\n",
    "\n",
    "$ |f(x) - S(x)| \\le \\frac{5}{384} M h^4 $\n",
    "\n",
    "where \n",
    "- $ M = \\max_{x\\in[a,b]}{|f^{(4)}(x)|} $\n",
    "- $ h = \\max{h_i} $"
   ]
  },
  {
   "cell_type": "markdown",
   "metadata": {},
   "source": [
    "## Minimum Squares Method"
   ]
  },
  {
   "cell_type": "markdown",
   "metadata": {},
   "source": [
    "### Introduction"
   ]
  },
  {
   "cell_type": "markdown",
   "metadata": {},
   "source": [
    "Let $ p_n(x) = \\Sigma_{k=0}^{n}{a_k x^k} $ be the polynomial that approximates a set of $N+1$ points $ (x_i, f_i)_{i = 0, ..., N} $\n",
    "\n",
    "The residue for $x_i$ is $ R_i = f_i - p_n(x_i) $, and, therefore, we can define the residue vector as:\n",
    "\n",
    "$ R = \\begin{pmatrix} R_0 \\\\ R_1 \\\\ \\vdots \\\\ R_N \\end{pmatrix} $"
   ]
  },
  {
   "cell_type": "markdown",
   "metadata": {},
   "source": [
    "The Minimum Squares Method aims to find the coeficients $a_0$, $a_1$, ..., $a_n$ that minimizes $ ||R||^2 $."
   ]
  },
  {
   "cell_type": "markdown",
   "metadata": {},
   "source": [
    "Let &nbsp;&nbsp;&nbsp;\n",
    "$ X = \\begin{pmatrix} 1 \\\\ x \\\\ x^2 \\\\ \\vdots \\\\ x^n \\end{pmatrix} $\n",
    "&nbsp;&nbsp;&nbsp;&nbsp;&nbsp;&nbsp;&nbsp;\n",
    "$ X_i = \\begin{pmatrix} 1 \\\\ x_i \\\\ x_i^2 \\\\ \\vdots \\\\ x_i^n \\end{pmatrix} $\n",
    "&nbsp;&nbsp;&nbsp;&nbsp;&nbsp;&nbsp;&nbsp;\n",
    "$ a = \\begin{pmatrix} a_0 \\\\ a_1 \\\\ \\vdots \\\\ a_n \\end{pmatrix} $\n",
    "\n",
    "**Note:** The polynomial $ p_n(x) $ can be defined as $ p_n(x) = X^T a $"
   ]
  },
  {
   "cell_type": "markdown",
   "metadata": {},
   "source": [
    "Solving the system composed by the following $N+1$ equations of type \n",
    "\n",
    "$ R_i = f_i - X_i^T a$\n",
    "\n",
    "we can find the vector $a$ that minimizes $||R||^2$."
   ]
  },
  {
   "cell_type": "markdown",
   "metadata": {},
   "source": [
    "Let $ A = \\begin{pmatrix} 1 & 1 & ... & 1 \\\\ x_0 & x_1 & ... & x_N \\\\ x_0^2 & x_1^2 & ... & x_N^2 \\\\ \\vdots & \\vdots &  & \\vdots \\\\ x_0^n & x_1^n & ... & x_N^n \\end{pmatrix}_{A \\in \\R^{(n+1)\\times(N+1)}}$ "
   ]
  },
  {
   "cell_type": "markdown",
   "metadata": {},
   "source": [
    "The residue vector can be re-defined as $ R = f - A^T a $ and the system defined above can be re-written as \n",
    "$ A R = 0 \\Leftrightarrow (A A^T) a = A f $.\n",
    "\n",
    "We aim to obtain the values of $a$."
   ]
  },
  {
   "cell_type": "markdown",
   "metadata": {},
   "source": [
    "### Implementation of the Minimum Squares Method"
   ]
  },
  {
   "cell_type": "code",
   "execution_count": 9,
   "metadata": {},
   "outputs": [],
   "source": [
    "import numpy as np\n",
    "\n",
    "# X: list of x values\n",
    "# F: list of f values\n",
    "# n: the degree of the polinomial\n",
    "# returns a list with the coeficients \"a\" = [a_0, a_1, ..., a_n] \n",
    "def MinimumSquares(X, F, n):\n",
    "    # define matrix A\n",
    "    A = [[x**k for x in X] for k in range(n+1)]\n",
    "    A = np.array(A)\n",
    "\n",
    "    # define the transpose matrix of A, A^T\n",
    "    At = np.transpose(A)\n",
    "\n",
    "    # define matrix f\n",
    "    f = np.array(F)\n",
    "\n",
    "    # to solve the system of equations defined by A*At*a = A*f in order to a\n",
    "    # we can use numpy.linalg.solve() function\n",
    "    # x = numpy.linalg.solve(A, B) solves the system of equations represented by A*x = B in order to x\n",
    "    a = np.linalg.solve(np.matmul(A, At), np.matmul(A, f))\n",
    "    return a\n",
    "\n",
    "# coefs: list of the polinomial coefficients in a_0, a_1, ..., a_n order\n",
    "# x: x value to calculate the p_n(x) of\n",
    "def polynomial(coefs, x):\n",
    "    res = 0\n",
    "    for i in range(len(coefs)):\n",
    "        res += coefs[i] * x**i\n",
    "    return res\n",
    "\n",
    "# returns the square of the norm of the residue vector\n",
    "def residue_norm_squared(X, F, coefs):\n",
    "    residue = 0\n",
    "    for i in range(len(X)):\n",
    "        residue += (F[i] - polynomial(coefs, X[i]))**2\n",
    "    return residue\n"
   ]
  },
  {
   "cell_type": "markdown",
   "metadata": {},
   "source": [
    "### Minimum Squares Method with weights\n",
    "\n",
    "We can assign a weight $w_i$ to each observation $(x_i, f_i)$ in the sense that we \"trusting\" more or less that point.\n",
    "\n",
    "In that case, the system of equations to find the coefficients that best approximate the given points is defined as\n",
    "\n",
    "$ A W A^T a = A W f $\n",
    "\n",
    "where $ W = \\begin{pmatrix} w_0 &  &  & 0 \\\\  & w_1 &  &  \\\\  &  & \\ddots &  \\\\ 0 &  &  & w_N \\end{pmatrix} $"
   ]
  },
  {
   "cell_type": "markdown",
   "metadata": {},
   "source": [
    "### Implementation of the Minimum Squares Method with weights"
   ]
  },
  {
   "cell_type": "code",
   "execution_count": 10,
   "metadata": {},
   "outputs": [],
   "source": [
    "import numpy as np\n",
    "\n",
    "# X: list of x values\n",
    "# F: list of f values\n",
    "# W: list of the weights\n",
    "# n: the degree of the polinomial\n",
    "# returns a list with the coeficients \"a\" = [a_0, a_1, ..., a_n] \n",
    "def MinimumSquares(X, F, W, n):\n",
    "    # define matrix W\n",
    "    W = np.diag(W)\n",
    "\n",
    "    # define matrix A\n",
    "    A = [[x**k for x in X] for k in range(n+1)]\n",
    "    A = np.array(A)\n",
    "\n",
    "    # define the transpose matrix of A, A^T\n",
    "    At = np.transpose(A)\n",
    "\n",
    "    # define matrix f\n",
    "    f = np.array(F)\n",
    "\n",
    "    # solve A*W*At*a = A*W*f\n",
    "    AWAt = np.matmul(np.matmul(A, W), At)\n",
    "    AWf = np.matmul(np.matmul(A, W), f)\n",
    "    a = np.linalg.solve(AWAt, AWf)\n",
    "    return a\n"
   ]
  },
  {
   "cell_type": "markdown",
   "metadata": {},
   "source": [
    "### Generalization of approximation in the direction of the Minimum Squares\n",
    "\n",
    "We might want to use any kind of combination of non-polynomial functions.\n",
    "\n",
    "We can use the Minimum Squares Method to find the coefficients to construct a linear combination a given set of functions $\\phi_{0}(x), \\phi_{1}(x), ..., \\phi_{n}(x)$.\n",
    "\n",
    "The difference to the system of equations of the weighted Minimum Squares Method, is the definition of the $A$ matrix, which, in this case, is\n",
    "\n",
    "$ A = \\begin{pmatrix} \\phi_{0}(x_0) & \\phi_{0}(x_1) & ... & \\phi_{0}(x_N) \\\\ \\phi_{1}(x_0) & \\phi_{1}(x_1) & ... & \\phi_{1}(x_N) \\\\ \\vdots & \\vdots &  & \\vdots \\\\ \\phi_{n}(x_0) & \\phi_{n}(x_1) & ... & \\phi_{n}(x_N) \\end{pmatrix} $"
   ]
  },
  {
   "cell_type": "markdown",
   "metadata": {},
   "source": [
    "Notebook criado por António Cardoso em 2023 para a Unidade Curricular \"Métodos Numéricos (M2039)\" na Faculdade de Ciências da Universidade do Porto.\n",
    "\n",
    "$_{meow}$"
   ]
  }
 ],
 "metadata": {
  "kernelspec": {
   "display_name": "base",
   "language": "python",
   "name": "python3"
  },
  "language_info": {
   "codemirror_mode": {
    "name": "ipython",
    "version": 3
   },
   "file_extension": ".py",
   "mimetype": "text/x-python",
   "name": "python",
   "nbconvert_exporter": "python",
   "pygments_lexer": "ipython3",
   "version": "3.11.6"
  }
 },
 "nbformat": 4,
 "nbformat_minor": 2
}

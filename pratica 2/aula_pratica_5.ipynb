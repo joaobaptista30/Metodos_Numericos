{
 "cells": [
  {
   "cell_type": "markdown",
   "metadata": {},
   "source": [
    "## Pratical Class 5\n",
    "### Worksheet 2"
   ]
  },
  {
   "cell_type": "markdown",
   "metadata": {},
   "source": [
    "### Exercise 1 a)"
   ]
  },
  {
   "cell_type": "markdown",
   "metadata": {},
   "source": [
    "$ \\frac{b-a}{2^n} \\le error \\Leftrightarrow $\n",
    "\n",
    "$ \\frac{b-a}{error} \\le 2^n \\Leftrightarrow $\n",
    "\n",
    "$ \\log_{2}{\\frac{b-a}{error}} \\le n \\Leftrightarrow $\n",
    "\n",
    "$ n \\ge \\log_{2}{\\frac{b-a}{error}} \\Leftrightarrow $"
   ]
  },
  {
   "cell_type": "code",
   "execution_count": 4,
   "metadata": {},
   "outputs": [],
   "source": [
    "import math\n",
    "\n",
    "def calc_n_iterations(a, b, error):\n",
    "    return math.ceil(\n",
    "        math.log2((b-a)/error)\n",
    "    )\n",
    "\n",
    "def F(x):\n",
    "    ...\n",
    "\n",
    "def successive_bisections(f, a, b, error):\n",
    "    n = 0 # number of iterations\n",
    "    delta = (b-a)/(2**n)\n",
    "    n_iter = calc_n_iterations(a, b, error)\n",
    "    while n < n_iter:\n",
    "        m = (a+b)/2\n",
    "        if f(m) == 0: # if m is the solution\n",
    "            delta = 0\n",
    "            return m\n",
    "        \n",
    "        # if m is not the solution\n",
    "        elif f(m)*f(a) < 0: # if the solution is in [a,m]\n",
    "            b = m\n",
    "        elif f(m)*f(a) > 0: # if the solution is in [m,b]\n",
    "            a = m\n",
    "\n",
    "        # update delta and number of iterations\n",
    "        delta /= 2\n",
    "        n += 1\n",
    "    \n",
    "    return m, delta"
   ]
  },
  {
   "cell_type": "code",
   "execution_count": 2,
   "metadata": {},
   "outputs": [],
   "source": [
    "def successive_bisections(f, a, b, error, iter_max=10000):\n",
    "    n = 0 # number of iterations\n",
    "    delta = (b-a)/(2**n)\n",
    "    while not (abs(delta) <= abs(error)) and n < iter_max:\n",
    "        m = (a+b)/2\n",
    "        if f(m) == 0: # if m is the solution\n",
    "            delta = 0\n",
    "            return m\n",
    "        \n",
    "        # if m is not the solution\n",
    "        elif f(m)*f(a) < 0: # if the solution is in [a,m]\n",
    "            b = m\n",
    "        elif f(m)*f(a) > 0: # if the solution is in [m,b]\n",
    "            a = m\n",
    "\n",
    "        # update delta and number of iterations\n",
    "        delta /= 2\n",
    "        n += 1\n",
    "    \n",
    "    return m, delta"
   ]
  },
  {
   "cell_type": "markdown",
   "metadata": {},
   "source": [
    "### Exercise 2"
   ]
  },
  {
   "cell_type": "code",
   "execution_count": 3,
   "metadata": {},
   "outputs": [
    {
     "ename": "NameError",
     "evalue": "name 'successive_bisections' is not defined",
     "output_type": "error",
     "traceback": [
      "\u001b[1;31m---------------------------------------------------------------------------\u001b[0m",
      "\u001b[1;31mNameError\u001b[0m                                 Traceback (most recent call last)",
      "\u001b[1;32mc:\\Users\\anton\\OneDrive\\Faculdade - António\\LIACD\\Métodos Numéricos - Monitor\\Aulas\\aula_pratica_5.ipynb Cell 7\u001b[0m line \u001b[0;36m7\n\u001b[0;32m      <a href='vscode-notebook-cell:/c%3A/Users/anton/OneDrive/Faculdade%20-%20Ant%C3%B3nio/LIACD/M%C3%A9todos%20Num%C3%A9ricos%20-%20Monitor/Aulas/aula_pratica_5.ipynb#W4sZmlsZQ%3D%3D?line=3'>4</a>\u001b[0m \u001b[39mdef\u001b[39;00m \u001b[39mF\u001b[39m(x):\n\u001b[0;32m      <a href='vscode-notebook-cell:/c%3A/Users/anton/OneDrive/Faculdade%20-%20Ant%C3%B3nio/LIACD/M%C3%A9todos%20Num%C3%A9ricos%20-%20Monitor/Aulas/aula_pratica_5.ipynb#W4sZmlsZQ%3D%3D?line=4'>5</a>\u001b[0m     \u001b[39mreturn\u001b[39;00m \u001b[39m0.123\u001b[39m\u001b[39m*\u001b[39m\u001b[39m*\u001b[39mx \u001b[39m-\u001b[39m x\n\u001b[1;32m----> <a href='vscode-notebook-cell:/c%3A/Users/anton/OneDrive/Faculdade%20-%20Ant%C3%B3nio/LIACD/M%C3%A9todos%20Num%C3%A9ricos%20-%20Monitor/Aulas/aula_pratica_5.ipynb#W4sZmlsZQ%3D%3D?line=6'>7</a>\u001b[0m result, delta \u001b[39m=\u001b[39m successive_bisections(F, \u001b[39m0\u001b[39m, \u001b[39m1\u001b[39m, \u001b[39m1e-5\u001b[39m)\n\u001b[0;32m      <a href='vscode-notebook-cell:/c%3A/Users/anton/OneDrive/Faculdade%20-%20Ant%C3%B3nio/LIACD/M%C3%A9todos%20Num%C3%A9ricos%20-%20Monitor/Aulas/aula_pratica_5.ipynb#W4sZmlsZQ%3D%3D?line=7'>8</a>\u001b[0m \u001b[39mprint\u001b[39m(\u001b[39m\"\u001b[39m\u001b[39m2 a)\u001b[39m\u001b[39m\"\u001b[39m)\n\u001b[0;32m      <a href='vscode-notebook-cell:/c%3A/Users/anton/OneDrive/Faculdade%20-%20Ant%C3%B3nio/LIACD/M%C3%A9todos%20Num%C3%A9ricos%20-%20Monitor/Aulas/aula_pratica_5.ipynb#W4sZmlsZQ%3D%3D?line=8'>9</a>\u001b[0m \u001b[39mprint\u001b[39m(\u001b[39mf\u001b[39m\u001b[39m\"\u001b[39m\u001b[39mSolution = \u001b[39m\u001b[39m{\u001b[39;00mresult\u001b[39m:\u001b[39;00m\u001b[39m.3f\u001b[39m\u001b[39m}\u001b[39;00m\u001b[39m +/- \u001b[39m\u001b[39m{\u001b[39;00mdelta\u001b[39m:\u001b[39;00m\u001b[39m.2e\u001b[39m\u001b[39m}\u001b[39;00m\u001b[39m\"\u001b[39m)\n",
      "\u001b[1;31mNameError\u001b[0m: name 'successive_bisections' is not defined"
     ]
    }
   ],
   "source": [
    "import math\n",
    "\n",
    "# a)\n",
    "def F(x):\n",
    "    return 0.123**x - x\n",
    "\n",
    "result, delta = successive_bisections(F, 0, 1, 1e-5)\n",
    "print(\"2 a)\")\n",
    "print(f\"Solution = {result:.3f} +/- {delta:.2e}\")\n",
    "\n",
    "# ---------------------------------------------------------\n",
    "print()\n",
    "\n",
    "# b)\n",
    "def G(x):\n",
    "    return x**3 - 2*math.e**(-x)\n",
    "\n",
    "result, delta = successive_bisections(G, 0, 1, 1e-5)\n",
    "print(\"2 b)\")\n",
    "print(f\"Solution = {result:.3f} +/- {delta:.2e}\")"
   ]
  },
  {
   "cell_type": "markdown",
   "metadata": {},
   "source": [
    "### Exercise 3"
   ]
  },
  {
   "cell_type": "code",
   "execution_count": 11,
   "metadata": {},
   "outputs": [
    {
     "name": "stdout",
     "output_type": "stream",
     "text": [
      "n=1\tx_1 = 0.85865034019\tmajorante=1.207e-02\n",
      "n=2\tx_2 = 0.85951048020\tmajorante=1.457e-03\n",
      "n=3\tx_3 = 0.85941391331\tmajorante=1.759e-04\n",
      "n=4\tx_4 = 0.85942474942\tmajorante=2.124e-05\n",
      "n=5\tx_5 = 0.85942353339\tmajorante=2.564e-06\n",
      "n=6\tx_6 = 0.85942366986\tmajorante=3.095e-07\n",
      "n=7\tx_7 = 0.85942365454\tmajorante=3.736e-08\n",
      "n=8\tx_8 = 0.85942365626\tmajorante=4.511e-09\n",
      "n=9\tx_9 = 0.85942365607\tmajorante=5.445e-10\n",
      "n=10\tx_10 = 0.85942365609\tmajorante=6.573e-11\n",
      "\n",
      "Solution = 0.8594236560897112 +/- 6.57e-11\n"
     ]
    }
   ],
   "source": [
    "def f(x):\n",
    "    return math.e**(-0.2*math.sin(x))\n",
    "\n",
    "# using the majorant error for the stoping criteria\n",
    "def simple_iterative(f, a, b, eps=0, L=0, n_iter=0):\n",
    "    x0 = a\n",
    "    x1 = f(x0)\n",
    "    n = 0\n",
    "    largest_error = abs(b-a)\n",
    "    while n < n_iter:\n",
    "        x0 = x1\n",
    "        x1 = f(x0)\n",
    "        largest_error *= L\n",
    "        n += 1\n",
    "        print(f\"n={n}\\tx_{n} = {x1:.11f}\\tmajorante={largest_error:.3e}\")\n",
    "            \n",
    "    return x1, largest_error\n",
    "    \n",
    "result, majorant = simple_iterative(f, 0.8, 0.9, L=0.12072, n_iter=10)\n",
    "\n",
    "print(f\"\\nSolution = {result} +/- {majorant:.2e}\")"
   ]
  },
  {
   "cell_type": "code",
   "execution_count": 10,
   "metadata": {},
   "outputs": [
    {
     "name": "stdout",
     "output_type": "stream",
     "text": [
      "0.1207177772148374\n",
      "0.10629407454487866\n"
     ]
    }
   ],
   "source": [
    "# to calculate the L value\n",
    "\n",
    "def flinha(x):\n",
    "    return -0.2*math.cos(x)*math.e**(-0.2*math.sin(x))\n",
    "\n",
    "print(abs(flinha(0.8)))\n",
    "print(abs(flinha(0.9)))"
   ]
  }
 ],
 "metadata": {
  "kernelspec": {
   "display_name": "base",
   "language": "python",
   "name": "python3"
  },
  "language_info": {
   "codemirror_mode": {
    "name": "ipython",
    "version": 3
   },
   "file_extension": ".py",
   "mimetype": "text/x-python",
   "name": "python",
   "nbconvert_exporter": "python",
   "pygments_lexer": "ipython3",
   "version": "3.9.7"
  }
 },
 "nbformat": 4,
 "nbformat_minor": 2
}

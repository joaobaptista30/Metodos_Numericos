{
 "cells": [
  {
   "cell_type": "markdown",
   "metadata": {},
   "source": [
    "## Worksheet 2"
   ]
  },
  {
   "cell_type": "markdown",
   "metadata": {},
   "source": [
    "### Exercise 6 a)\n",
    "\n",
    "The obtained interval was $[5.3, 5.4]$.\n",
    "\n",
    "To obtain it, we took advantage of the Successive Bisections method.\n",
    "\n",
    "By applying it with an error of $10^{-1}$ on a larger interval $([2, 6])$, we were able to compute the lower bound for our interval.\n",
    "\n",
    "Since the intervals from the Successive Bisections method will always contain the solution and stop when their amplitude is smaller than the given error, we can just use the lower bound and add to it the desired amplitude of our search interval for the Newton's Method.\n",
    "\n",
    "Since the Successive Bisections returned $5.3$ as the lower bound for the interval, the upper bound was defined as $5.4$."
   ]
  },
  {
   "cell_type": "markdown",
   "metadata": {},
   "source": [
    "### Exercise 6 b)"
   ]
  },
  {
   "cell_type": "code",
   "execution_count": 1,
   "metadata": {},
   "outputs": [
    {
     "name": "stdout",
     "output_type": "stream",
     "text": [
      "iteração 0 | x0 = 5.4 | majorante = 0.10000000000000053\n",
      "iteração 1 | x1 = 5.356796676046609 | majorante = 0.0005720000000000061\n",
      "iteração 2 | x2 = 5.35669398061984 | majorante = 1.87149248000004e-08\n",
      "iteração 3 | x3 = 5.356693980033321 | majorante = 2.003420906742512e-17\n"
     ]
    },
    {
     "data": {
      "text/plain": [
       "5.356693980033321"
      ]
     },
     "execution_count": 1,
     "metadata": {},
     "output_type": "execute_result"
    }
   ],
   "source": [
    "import math\n",
    "\n",
    "def F(x): # function from the expression F(x) = 0 that we're trying to solve\n",
    "    return 2*math.log(x, math.e) - x + 2\n",
    "\n",
    "def F_derivative(x):\n",
    "    return 2/x - 1\n",
    "\n",
    "def f(x): # function that we will iterate in the Newton's Method\n",
    "    return x - F(x)/F_derivative(x)\n",
    "\n",
    "def newton_method(a, b, M, n_iter):\n",
    "    x0 = b\n",
    "    majorant_error = abs(b-a)\n",
    "    i = 0 # number of iterations\n",
    "    print(f\"iteração 0 | x0 = {x0} | majorante = {majorant_error}\")\n",
    "    while i < n_iter:\n",
    "        x1 = f(x0)\n",
    "        majorant_error = M * majorant_error**2\n",
    "        print(f\"iteração {i+1} | x{i+1} = {x1} | majorante = {majorant_error}\")\n",
    "        i += 1\n",
    "        x0 = x1\n",
    "    return x0\n",
    "\n",
    "# the M value was calculated by hand at the pratical class, resulting in M = 0.0572\n",
    "\n",
    "newton_method(5.3, 5.4, 0.0572, 3)"
   ]
  },
  {
   "cell_type": "markdown",
   "metadata": {},
   "source": [
    "## Worksheet with examples for the 2nd Practical Test"
   ]
  },
  {
   "cell_type": "code",
   "execution_count": 17,
   "metadata": {},
   "outputs": [
    {
     "name": "stdout",
     "output_type": "stream",
     "text": [
      "Solution = 0.13793482556521744\n",
      "Absolute error estimate = 8.11e-08\n",
      "Number of iterations = 4\n"
     ]
    }
   ],
   "source": [
    "def F(x):\n",
    "    return math.log(x, math.e) - x**2 + 2\n",
    "\n",
    "def F_deriv(x):\n",
    "    return 1/x - 2*x\n",
    "\n",
    "def f(x):\n",
    "    return x - F(x)/F_deriv(x)\n",
    "\n",
    "def newton(x0, eps):\n",
    "    x1 = f(x0)\n",
    "    i = 1\n",
    "    while not abs(x1 - x0) <= eps:\n",
    "        x0 = x1\n",
    "        x1 = f(x0)\n",
    "        i += 1\n",
    "\n",
    "    print(f\"Solution = {x1}\")\n",
    "    print(f\"Absolute error estimate = {abs(x1-x0):.2e}\")\n",
    "    print(f\"Number of iterations = {i}\")\n",
    "\n",
    "\n",
    "newton(0.1, 1e-5)"
   ]
  }
 ],
 "metadata": {
  "kernelspec": {
   "display_name": "base",
   "language": "python",
   "name": "python3"
  },
  "language_info": {
   "codemirror_mode": {
    "name": "ipython",
    "version": 3
   },
   "file_extension": ".py",
   "mimetype": "text/x-python",
   "name": "python",
   "nbconvert_exporter": "python",
   "pygments_lexer": "ipython3",
   "version": "3.9.7"
  }
 },
 "nbformat": 4,
 "nbformat_minor": 2
}